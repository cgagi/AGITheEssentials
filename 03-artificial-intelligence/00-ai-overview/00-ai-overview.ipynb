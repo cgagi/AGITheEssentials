{
 "cells": [
  {
   "cell_type": "markdown",
   "id": "298c04a4",
   "metadata": {
    "tags": []
   },
   "source": [
    "# AI Landscape\n",
    "\n",
    "## AI, ML, DL, HI, AGI\n",
    "\n",
    "### Artificial Intelligence\n",
    "- __Artificial Intelligence__ is a scientific field that is concerned in building and studying AI agents. An AI agent intuitively is some sort of autonomous entity that can rationally act on its own to achieve some desired outcome. We can further categorize AI into weak AI (narrow artificial intelligence) and strong AI (artificial general intelligence). AI agent with narrow intelligence can learn to act intelligently on a specific task with a predefined desired outcomes. AI agent with general intelligence can learn to act intelligently on any type of tasks. \n",
    "\n",
    "    - __Formal definitions of AI__: According to AI MA* alone there are 8 definitions, grouped into 4 categories -  thinking humanly, acting humanly, thinking rationally, acting rationally. This work is concerned with practical aspect of things. Therefore:\n",
    "\n",
    "        - __Thinking vs Acting__: There is an open philosophical question - if an entity is demonstrating intelligence is it truly intelligent? Same about consciousness. From practical standpoint we are concerned about something that is measurable in objective reality, that is behavior, not thinking.\n",
    "\n",
    "        - __Humanly vs Rationality__: In resent years AI models consistently outperformed humans in many narrow categories except open-ended problems and general intelligence. For example game of Go, where an AI agent was able to find strategies previously unknown to humans. Also humans as biological species have lots of outdated and imperfect biological models. Example irrational desire for sugar consumption that can negatively impact human behavior. Another example acting irrationally violent because of physical urges or psychological issues. From another side pure rationality without human values can lead to devastating results. For example in order to avoid human violence one can think of a scenario of total birth reduction to zero, that will lead to zero human violence eventually.  Intelligence of a human group is considered to be rational in terms of human values. is also not  Therefore from practical standpoint we prefer definitions with focus on rationality in terms of human values.\n",
    "\n",
    "    - __In practice__ an AI is any system that has a computer program, with some sort of sensors and actuators that it uses to decide what next action to take and what data to collect next in order to maximize probability of achieving a future goal. Examples are robot playing video game on a computer, self-driving car navigating a city, etc.\n",
    "\n",
    "\n",
    "### Machine Learning\n",
    "\n",
    "- __Machine Learning__. Intuitively is a computer program that learns from some data and able to perform some task.\n",
    "\n",
    "    - Formal definition: Arthur Samuel (1959): “Feild of study that gives computers the ability to learn without being explicitly programmed”. Tom Mitchel (1998) “A computer program is said to learn from experience E with respect to some task T and some performance measure P, if its performance on T, as measured by P, improves with experience E”\n",
    "\n",
    "    - In practice: When the AI problem is restricted to a provided dataset and examples measured by an outcome of each prediction we can consider it an ML problem. For example predicting product recommendation, where task is to provide recommendation given information about a user and predicting probability of a click. Other examples predicting price of a particular house, predicting if a given transaction is a fraud or not, etc.\n",
    "\n",
    "### Deep Learing\n",
    "\n",
    "- __Deep Learning__. Intuitively it is a class of very powerful machine learning models structured similarly to the neural networks in a human brain. The models are called artificial neural networks and have many layers of neurons connected together.\n",
    "\n",
    "    - __Format definition__: Deep learning allows computational models that are composed of multiple processing layers to learn representations of data with multiple levels of abstraction.\n",
    "\n",
    "    - __In practice__: Shallow ANNs are known for a long time, and can be considered as classical ML models. Deep learning is concerned with ANNs which are much larger (deeper) than shallow neural nets.  These multi-layer (deep) structures allow to infer important properties of the data and avoid manual feature engineering. Anything that goes beyond 3 layers or take unstructured data as an input (e.g. image 32x32x3 channel is 3072 features) can be considered as a deep model.\n",
    "\n",
    "### Hybrid Intelligence\n",
    "TBD\n",
    "    \n",
    "### Artificial General Intelligence\n",
    "\n",
    "- __AGI (or strong AI)__  stands for Artificial General Intelligence. As stated above is a type of intelligent agent AI agent that can learn to act intelligently on any type of tasks, including learning of learning, as well as setting arbitrary goals on its own to achieve greater good for a community. This is ongoing quest for many AI experts both in academia and in the industry. Some experts believe that open-endedness is the last frontier to solve Strong AI.\n",
    "\n",
    "    - __Formal definition__ - TBD\n",
    "\n",
    "    - __In practice__ - AGI is the goal rather than reality at this point. The problem of general intelligence includes several known problems such as catastrophic forgetting, world representation models, efficient explore - exploit dilemma etc. From practical standpoint it can be used to apply practical methods to increase generality of a particular model. For example reduce labeling efforts and increase accuracy by utilizing Self-supervised methods that automatically creates structured representation of a dataset in a latent space.    \n"
   ]
  },
  {
   "cell_type": "markdown",
   "id": "bfa26f18",
   "metadata": {
    "toc-hr-collapsed": true
   },
   "source": [
    "## Generative vs Discriminative\n",
    "\n",
    "### Generative\n",
    "\n",
    "- __Generative model__ trained on some observed data (and sometimes an expert knowledge), can generate new examples that look like the original data. For example Bayesian model can predict relative probability of a person clicking one Ad vs another Ad given that they were never shown together. Or GAN model can generate face of a non-existing person.\n",
    "\n",
    "### Discriminative\n",
    "\n",
    "- __Discriminative model__ trained on some observed data to perform some specific task such as classification or regression, can perform the task on a new sample. For example CNN classifier trained on image dataset can categorize images of animals. RNN that performs machine translation from one language to another. \n"
   ]
  },
  {
   "cell_type": "markdown",
   "id": "eb7f3c1b",
   "metadata": {
    "tags": []
   },
   "source": [
    "## Supervised, Unsupervised, Self-supervised, Weekly supervised, Reinforcement\n",
    "### Supervised\n",
    "- __Supervised__ model is an approximation of Y=F(X) trained on tuples of (X,Y), where Y is a label for datapoint X. The model produces a prediction Yhat=F(x), measured by error rate computed as some sort of distance between Yhat and Y. Many practical applications such as:\n",
    "    - regression where model predicts a number\n",
    "    - classification - model predicts probability of a class\n",
    "    - complex combinations - tensor of numbers, for example region proposal in an image with probabilities of a class in them\n",
    "    - Unsupervised model is trained on data provided without labels. It is umbrella for many tasks. In practice most often used for: \n",
    "        - Clustering - model automatically groups data points in clusters, and can estimate if a newly observed sample belongs to any of existing clusters\n",
    "        - Anomaly Detection - model learns a data and can check is how likely that new set are abnormal, meaning they do not belong to original data distribution\n",
    "\n",
    "### Unsupervised\n",
    "- TBD\n",
    "\n",
    "### Self-supervised\n",
    "- __Self-Supervised__ model is trained on data provided without labels. Unlike unsupervised learning where task is given (e.g. clustering), self-supervised learning creates a model that able to extract general knowledge from the data for some future use. It does so by masking some portions of original data, predicting it and self-correcting. That approach allows to uncover hidden dependencies and structures in the data automatically. __In practice__: \n",
    "    - Used as a precursor for Supervised or weakly supervised learning. Once self-supervised model is trained it can produce vectors of latent representation (often called embedding), that can be used in further supervised training.\n",
    "    - Used as a precursor for clustering. Embeddings computed from self-supervised learning model can be used for clustering of the dataset. \n",
    "    - Search: Embeddings can be used to search similar examples.\n",
    "\n",
    "### Weakly-Supervised\n",
    "- __Weakly-Supervised__ learning is used to train Supervised model. Oftentimes in production the data provided for supervised learning with labels that are noisy, limited or inconsistent. Weakly-supervised learning solves this by applying set of methods: getting labels form experts, by applying heuristics, and iteratively retraining and sampling from a larger dataset. In practice it is very useful set techniques to handle bootstrapping of a model and improving its performance.\n",
    "\n",
    "\n",
    "### Reinforcement\n",
    "- __Reinforcement__ learning model solves cases when label is delayed and requires many predictions in environment that is stochastic, or too complex. In practice any problems related to robotics, as well as multi-agent environments are solved by Reinforcement Learning. Example is robot navigating crowded environment with moving agents to achieve a goal (e.g. arrive from location A to a location B). Another example is game of Chess, where there are too many possible states of the system and opponent can constantly change strategy after our next action. "
   ]
  }
 ],
 "metadata": {
  "kernelspec": {
   "display_name": "Python 3 (ipykernel)",
   "language": "python",
   "name": "python3"
  },
  "language_info": {
   "codemirror_mode": {
    "name": "ipython",
    "version": 3
   },
   "file_extension": ".py",
   "mimetype": "text/x-python",
   "name": "python",
   "nbconvert_exporter": "python",
   "pygments_lexer": "ipython3",
   "version": "3.10.9"
  }
 },
 "nbformat": 4,
 "nbformat_minor": 5
}
