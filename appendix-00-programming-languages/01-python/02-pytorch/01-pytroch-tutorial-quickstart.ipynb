{
 "cells": [
  {
   "cell_type": "code",
   "execution_count": 3,
   "id": "31334156",
   "metadata": {},
   "outputs": [
    {
     "name": "stdout",
     "output_type": "stream",
     "text": [
      "The autoreload extension is already loaded. To reload it, use:\n",
      "  %reload_ext autoreload\n"
     ]
    }
   ],
   "source": [
    "import os\n",
    "import sys\n",
    "\n",
    "PROJECT_ROOT = os.path.dirname(os.path.dirname(os.path.realpath(\"__file__\")))\n",
    "PYTHON_CODE_ROOT = os.path.join(PROJECT_ROOT, 'system', 'python')\n",
    "sys.path.append(PYTHON_CODE_ROOT)\n",
    "%load_ext autoreload\n",
    "%autoreload 2"
   ]
  },
  {
   "cell_type": "markdown",
   "id": "9761755e",
   "metadata": {},
   "source": [
    "# Working with Data\n",
    "PyTorch has two primitives to work with data: torch.utils.data.DataLoader and torch.utils.data.Dataset. Dataset stores the samples and their corresponding labels, and DataLoader wraps an iterable around the Dataset."
   ]
  },
  {
   "cell_type": "code",
   "execution_count": 2,
   "id": "0249e96c",
   "metadata": {},
   "outputs": [],
   "source": [
    "import torch\n",
    "from torch.utils.data import DataLoader\n",
    "import torchvision as tv\n",
    "import matplotlib.pyplot as plt"
   ]
  },
  {
   "cell_type": "markdown",
   "id": "6c6286f3",
   "metadata": {},
   "source": [
    "PyTorch offers domain-specific libraries such as TorchText, TorchVision, and TorchAudio, all of which include datasets. For this tutorial, we will be using a TorchVision dataset.\n",
    "\n",
    "The torchvision.datasets module contains Dataset objects for many real-world vision data like CIFAR, COCO (full list here). In this tutorial, we use the FashionMNIST dataset. Every TorchVision Dataset includes two arguments: transform and target_transform to modify the samples and labels respectively."
   ]
  },
  {
   "cell_type": "code",
   "execution_count": 7,
   "id": "40442a18",
   "metadata": {},
   "outputs": [],
   "source": [
    "training_data = tv.datasets.FashionMNIST(root=ft.data_location, train=True, download=True, transform=ToTensor())\n",
    "test_data = tv.datasets.FashionMNIST(root=ft.data_location, train=False, download=True, transform=ToTensor())"
   ]
  },
  {
   "cell_type": "markdown",
   "id": "714641f8",
   "metadata": {},
   "source": [
    "We pass the Dataset as an argument to DataLoader. This wraps an iterable over our dataset, and supports automatic batching, sampling, shuffling and multiprocess data loading. Here we define a batch size of 64, i.e. each element in the dataloader iterable will return a batch of 64 features and labels."
   ]
  },
  {
   "cell_type": "code",
   "execution_count": 18,
   "id": "46b86414",
   "metadata": {},
   "outputs": [
    {
     "name": "stdout",
     "output_type": "stream",
     "text": [
      "Shape of X [N, C, H, W]:  torch.Size([64, 1, 28, 28])\n",
      "Shape of y:  torch.Size([64]) torch.int64\n"
     ]
    }
   ],
   "source": [
    "batch_size = 64\n",
    "\n",
    "train_dataloader = DataLoader(training_data, batch_size=batch_size)\n",
    "test_dataloader = DataLoader(test_data, batch_size=batch_size)\n",
    "\n",
    "for X, y in test_dataloader:\n",
    "    print(\"Shape of X [N, C, H, W]: \", X.shape)\n",
    "    print(\"Shape of y: \", y.shape, y.dtype)\n",
    "    break"
   ]
  },
  {
   "cell_type": "markdown",
   "id": "60a56ed3",
   "metadata": {},
   "source": [
    "# Creating Models"
   ]
  },
  {
   "cell_type": "markdown",
   "id": "2a43baae",
   "metadata": {},
   "source": [
    "To define a neural network in PyTorch, we create a class that inherits from nn.Module. We define the layers of the network in the __init__ function and specify how data will pass through the network in the forward function. To accelerate operations in the neural network, we move it to the GPU if available."
   ]
  },
  {
   "cell_type": "code",
   "execution_count": 11,
   "id": "a138c16f",
   "metadata": {},
   "outputs": [
    {
     "name": "stdout",
     "output_type": "stream",
     "text": [
      "Using cuda device\n"
     ]
    }
   ],
   "source": [
    "device = \"cuda\" if torch.cuda.is_available() else \"cpu\"\n",
    "print(\"Using {} device\".format(device))"
   ]
  },
  {
   "cell_type": "code",
   "execution_count": 13,
   "id": "62491342",
   "metadata": {},
   "outputs": [
    {
     "name": "stdout",
     "output_type": "stream",
     "text": [
      "NeuralNetwork(\n",
      "  (flatten): Flatten(start_dim=1, end_dim=-1)\n",
      "  (linear_relu_stack): Sequential(\n",
      "    (0): Linear(in_features=784, out_features=512, bias=True)\n",
      "    (1): ReLU()\n",
      "    (2): Linear(in_features=512, out_features=512, bias=True)\n",
      "    (3): ReLU()\n",
      "    (4): Linear(in_features=512, out_features=10, bias=True)\n",
      "    (5): ReLU()\n",
      "  )\n",
      ")\n"
     ]
    }
   ],
   "source": [
    "class NeuralNetwork(torch.nn.Module):\n",
    "    def __init__(self):\n",
    "        super(NeuralNetwork, self).__init__()\n",
    "        self.flatten = nn.Flatten()\n",
    "        self.linear_relu_stack = nn.Sequential(\n",
    "            torch.nn.Linear(28*28, 512),\n",
    "            torch.nn.ReLU(),\n",
    "            torch.nn.Linear(512,512),\n",
    "            torch.nn.ReLU(),\n",
    "            torch.nn.Linear(512,10),\n",
    "            torch.nn.ReLU()\n",
    "        )\n",
    "    \n",
    "    def forward(self, x):\n",
    "        x = self.flatten(x)\n",
    "        logits = self.linear_relu_stack(x)\n",
    "        return logits\n",
    "    \n",
    "model = NeuralNetwork().to(device)\n",
    "print(model)"
   ]
  },
  {
   "cell_type": "markdown",
   "id": "426550ef",
   "metadata": {},
   "source": [
    "# Optimizing the model parameters\n",
    "To train a model, we need a loss function and an optimizer."
   ]
  },
  {
   "cell_type": "code",
   "execution_count": 14,
   "id": "40323b5f",
   "metadata": {},
   "outputs": [],
   "source": [
    "loss_fn = torch.nn.CrossEntropyLoss()\n",
    "optimizer = torch.optim.SGD(model.parameters(), lr=1e-3)"
   ]
  },
  {
   "cell_type": "markdown",
   "id": "b03cb701",
   "metadata": {},
   "source": [
    "In a single training loop, the model makes predictions on the training dataset (fed to it in batches), and backpropagates the prediction error to adjust the model’s parameters."
   ]
  },
  {
   "cell_type": "code",
   "execution_count": 15,
   "id": "eb0624f6",
   "metadata": {},
   "outputs": [],
   "source": [
    "def train(dataloader, model, loss_fn, optimizer):\n",
    "    size = len(dataloader.dataset)\n",
    "    for batch, (X, y) in enumerate(dataloader):\n",
    "        X, y = X.to(device), y.to(device)\n",
    "        \n",
    "        # compute prediction error\n",
    "        pred = model(X)\n",
    "        loss = loss_fn(pred, y)\n",
    "        \n",
    "        # backpropogation\n",
    "        optimizer.zero_grad()\n",
    "        loss.backward()\n",
    "        optimizer.step()\n",
    "        \n",
    "        if batch % 100 == 0:\n",
    "            loss, current = loss.item(), batch * len(X)\n",
    "            print(f\"loss: {loss:>7f} [{current:>5d}/{size:>5d}]\")"
   ]
  },
  {
   "cell_type": "markdown",
   "id": "132d36fa",
   "metadata": {},
   "source": [
    "We also check the model’s performance against the test dataset to ensure it is learning."
   ]
  },
  {
   "cell_type": "code",
   "execution_count": 16,
   "id": "5c56c1e0",
   "metadata": {},
   "outputs": [],
   "source": [
    "def test(dataloader, model):\n",
    "    size = len(dataloader.dataset)\n",
    "    model.eval()\n",
    "    test_loss, correct = 0, 0\n",
    "    with torch.no_grad():\n",
    "        for X, y in dataloader:\n",
    "            X, y = X.to(device), y.to(device)\n",
    "            pred = model(X)\n",
    "            test_loss += loss_fn(pred, y).item()\n",
    "            correct += (pred.argmax(1)==y).type(torch.float).sum().item()\n",
    "    test_loss /= size\n",
    "    correct /= size\n",
    "    print(f\"Test Error: \\n Accuracy: {(100*correct):>0.1f}%, Avg_loss: {test_loss:>8f} \\n\")"
   ]
  },
  {
   "cell_type": "markdown",
   "id": "800db4df",
   "metadata": {},
   "source": [
    "The training process is conducted over several iterations (epochs). During each epoch, the model learns parameters to make better predictions. We print the model’s accuracy and loss at each epoch; we’d like to see the accuracy increase and the loss decrease with every epoch."
   ]
  },
  {
   "cell_type": "code",
   "execution_count": 19,
   "id": "f4cc5b33",
   "metadata": {},
   "outputs": [
    {
     "name": "stdout",
     "output_type": "stream",
     "text": [
      "Epoch 1\n",
      " ---------------\n",
      "loss: 2.303807 [    0/60000]\n",
      "loss: 2.299829 [ 6400/60000]\n",
      "loss: 2.285309 [12800/60000]\n",
      "loss: 2.280467 [19200/60000]\n",
      "loss: 2.258211 [25600/60000]\n",
      "loss: 2.255422 [32000/60000]\n",
      "loss: 2.244103 [38400/60000]\n",
      "loss: 2.223840 [44800/60000]\n",
      "loss: 2.227932 [51200/60000]\n",
      "loss: 2.239312 [57600/60000]\n",
      "Test Error: \n",
      " Accuracy: 53.2%, Avg_loss: 0.034615 \n",
      "\n",
      "Epoch 2\n",
      " ---------------\n",
      "loss: 2.195566 [    0/60000]\n",
      "loss: 2.195719 [ 6400/60000]\n",
      "loss: 2.156110 [12800/60000]\n",
      "loss: 2.190865 [19200/60000]\n",
      "loss: 2.118849 [25600/60000]\n",
      "loss: 2.130482 [32000/60000]\n",
      "loss: 2.111921 [38400/60000]\n",
      "loss: 2.063315 [44800/60000]\n",
      "loss: 2.088272 [51200/60000]\n",
      "loss: 2.100806 [57600/60000]\n",
      "Test Error: \n",
      " Accuracy: 53.2%, Avg_loss: 0.032013 \n",
      "\n",
      "Epoch 3\n",
      " ---------------\n",
      "loss: 2.032163 [    0/60000]\n",
      "loss: 2.018145 [ 6400/60000]\n",
      "loss: 1.943799 [12800/60000]\n",
      "loss: 2.011106 [19200/60000]\n",
      "loss: 1.872233 [25600/60000]\n",
      "loss: 1.924215 [32000/60000]\n",
      "loss: 1.868682 [38400/60000]\n",
      "loss: 1.802293 [44800/60000]\n",
      "loss: 1.866859 [51200/60000]\n",
      "loss: 1.871578 [57600/60000]\n",
      "Test Error: \n",
      " Accuracy: 52.7%, Avg_loss: 0.028088 \n",
      "\n",
      "Epoch 4\n",
      " ---------------\n",
      "loss: 1.790167 [    0/60000]\n",
      "loss: 1.766682 [ 6400/60000]\n",
      "loss: 1.664333 [12800/60000]\n",
      "loss: 1.767726 [19200/60000]\n",
      "loss: 1.587432 [25600/60000]\n",
      "loss: 1.705471 [32000/60000]\n",
      "loss: 1.583390 [38400/60000]\n",
      "loss: 1.540154 [44800/60000]\n",
      "loss: 1.634895 [51200/60000]\n",
      "loss: 1.636727 [57600/60000]\n",
      "Test Error: \n",
      " Accuracy: 59.0%, Avg_loss: 0.024398 \n",
      "\n",
      "Epoch 5\n",
      " ---------------\n",
      "loss: 1.556999 [    0/60000]\n",
      "loss: 1.544172 [ 6400/60000]\n",
      "loss: 1.434713 [12800/60000]\n",
      "loss: 1.558202 [19200/60000]\n",
      "loss: 1.365912 [25600/60000]\n",
      "loss: 1.546993 [32000/60000]\n",
      "loss: 1.354530 [38400/60000]\n",
      "loss: 1.355956 [44800/60000]\n",
      "loss: 1.455692 [51200/60000]\n",
      "loss: 1.465702 [57600/60000]\n",
      "Test Error: \n",
      " Accuracy: 61.1%, Avg_loss: 0.021736 \n",
      "\n",
      "Done!\n"
     ]
    }
   ],
   "source": [
    "epochs = 5\n",
    "for t in range(epochs):\n",
    "    print(f\"Epoch {t+1}\\n ---------------\")\n",
    "    train(train_dataloader, model, loss_fn, optimizer)\n",
    "    test(test_dataloader, model)\n",
    "print(\"Done!\")"
   ]
  },
  {
   "cell_type": "markdown",
   "id": "56af31f8",
   "metadata": {},
   "source": [
    "# Saving Models\n",
    "A common way to save a model is to serialize the internal state dictionary (containing the model parameters)."
   ]
  },
  {
   "cell_type": "code",
   "execution_count": 22,
   "id": "792f1446",
   "metadata": {},
   "outputs": [],
   "source": [
    "import os\n",
    "from common.settings import ac\n",
    "\n",
    "if not os.path.exists(ac.MODELS_LOCATION_INHOUSE_TORCH + \"/python-tutorial-quickstart\"):\n",
    "    os.makedirs(ac.MODELS_LOCATION_INHOUSE_TORCH + \"/python-tutorial-quickstart\")\n",
    "torch.save(model.state_dict(), ac.MODELS_LOCATION_INHOUSE_TORCH + \"/python-tutorial-quickstart/mlp.pth\")"
   ]
  },
  {
   "cell_type": "markdown",
   "id": "968981b2",
   "metadata": {},
   "source": [
    "# Loading Models"
   ]
  },
  {
   "cell_type": "markdown",
   "id": "62d95987",
   "metadata": {},
   "source": [
    "The process for loading a model includes re-creating the model structure and loading the state dictionary into it."
   ]
  },
  {
   "cell_type": "code",
   "execution_count": 24,
   "id": "10648856",
   "metadata": {},
   "outputs": [
    {
     "data": {
      "text/plain": [
       "<All keys matched successfully>"
      ]
     },
     "execution_count": 24,
     "metadata": {},
     "output_type": "execute_result"
    }
   ],
   "source": [
    "model = NeuralNetwork()\n",
    "model.load_state_dict(torch.load(ac.MODELS_LOCATION_INHOUSE_TORCH + \"/python-tutorial-quickstart/mlp.pth\"))"
   ]
  },
  {
   "cell_type": "markdown",
   "id": "d1a07055",
   "metadata": {},
   "source": [
    "This model can now be used to make predictions."
   ]
  },
  {
   "cell_type": "code",
   "execution_count": 25,
   "id": "e6fb3e00",
   "metadata": {},
   "outputs": [],
   "source": [
    "classes = [\n",
    "    \"T-shirt/top\",\n",
    "    \"Trouser\",\n",
    "    \"Pullover\",\n",
    "    \"Dress\",\n",
    "    \"Coat\",\n",
    "    \"Sandal\",\n",
    "    \"Shirt\",\n",
    "    \"Sneaker\",\n",
    "    \"Bag\",\n",
    "    \"Ankle boot\",\n",
    "]"
   ]
  },
  {
   "cell_type": "code",
   "execution_count": 27,
   "id": "0014d741",
   "metadata": {},
   "outputs": [
    {
     "name": "stdout",
     "output_type": "stream",
     "text": [
      "Predicted: Ankle boot, Actual: Ankle boot\n"
     ]
    }
   ],
   "source": [
    "model.eval()\n",
    "x, y = test_data[0][0], test_data[0][1]\n",
    "with torch.no_grad():\n",
    "    pred = model(x)\n",
    "    predicted, actual = classes[pred[0].argmax(0)], classes[y]\n",
    "    print(f\"Predicted: {predicted}, Actual: {actual}\")"
   ]
  },
  {
   "cell_type": "code",
   "execution_count": null,
   "id": "f544039d",
   "metadata": {},
   "outputs": [],
   "source": []
  }
 ],
 "metadata": {
  "kernelspec": {
   "display_name": "Python 3",
   "language": "python",
   "name": "python3"
  },
  "language_info": {
   "codemirror_mode": {
    "name": "ipython",
    "version": 3
   },
   "file_extension": ".py",
   "mimetype": "text/x-python",
   "name": "python",
   "nbconvert_exporter": "python",
   "pygments_lexer": "ipython3",
   "version": "3.8.3"
  }
 },
 "nbformat": 4,
 "nbformat_minor": 5
}
