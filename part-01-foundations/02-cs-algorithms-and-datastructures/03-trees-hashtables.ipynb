{
 "cells": [
  {
   "cell_type": "markdown",
   "id": "4a67e10d",
   "metadata": {},
   "source": [
    "# Setup"
   ]
  },
  {
   "cell_type": "code",
   "execution_count": 3,
   "id": "aff91640",
   "metadata": {},
   "outputs": [],
   "source": [
    "import time\n",
    "import math\n",
    "import matplotlib.pyplot as plt\n",
    "import numpy as np\n",
    "import random as rnd\n",
    "np.random.seed(123)\n",
    "rnd.seed(123)"
   ]
  },
  {
   "cell_type": "markdown",
   "id": "e1e751f1",
   "metadata": {},
   "source": [
    "# Trees and Hash Tables: Theory\n",
    "- Trees\n",
    "- Hash Tables"
   ]
  },
  {
   "cell_type": "markdown",
   "id": "eb0e36b8",
   "metadata": {},
   "source": [
    "## Base Algorithms\n",
    "- Binary Search Tree \n",
    "    - search\n",
    "    - add\n",
    "    - remove\n",
    "    - traverse: BFS\n",
    "    - traverse: DFS (preorder, inorder, postorder)\n",
    "    - predecessor, successor\n",
    "    - reconstruct BST\n",
    "    \n",
    "- Hash tables\n",
    "    - search\n",
    "    - add\n",
    "    - remove"
   ]
  },
  {
   "cell_type": "code",
   "execution_count": null,
   "id": "92328aba",
   "metadata": {},
   "outputs": [],
   "source": []
  },
  {
   "cell_type": "markdown",
   "id": "858a9ec2",
   "metadata": {},
   "source": [
    "# Sample Problems and Solutions"
   ]
  },
  {
   "cell_type": "markdown",
   "id": "989cad16",
   "metadata": {},
   "source": [
    "## Largest BST\n",
    "### Description\n",
    "Given a tree, find largest Binary Search Tree among all possible subtrees"
   ]
  },
  {
   "cell_type": "markdown",
   "id": "e7fb840d",
   "metadata": {},
   "source": [
    "### Solution"
   ]
  },
  {
   "cell_type": "code",
   "execution_count": 2,
   "id": "6745a032",
   "metadata": {},
   "outputs": [],
   "source": [
    "# Assume:\n",
    "# class Node():\n",
    "#    def __init__(self, v=None, l=None, r=None):\n",
    "#        self.v = val\n",
    "#        self.l = l\n",
    "#        self.r = r\n",
    "\n",
    "# complete the function below\n",
    "\n",
    "def find_largest_bst(root):\n",
    "    if root == None:\n",
    "        return 0\n",
    "        \n",
    "    def _helper(node):\n",
    "        # base\n",
    "        if node.l == None and node.r == None:\n",
    "            return 1, True, node.v, node.v\n",
    "        \n",
    "        # recursive part\n",
    "        \n",
    "        ## check children\n",
    "        if node.l != None:\n",
    "            lval, lbst, llo, lhi = _helper(node.l)\n",
    "        else:\n",
    "            lval, lbst, llo, lhi = 0, True, node.v, node.v\n",
    "        if node.r != None:\n",
    "            rval, rbst, rlo, rhi = _helper(node.r)\n",
    "        else:\n",
    "            rval, rbst, rlo, rhi = 0, True, node.v, node.v\n",
    "            \n",
    "        ## combine results\n",
    "        if lhi <= node.v and node.v <= rlo and lbst and rbst:\n",
    "            return 1 + lval + rval, True, llo, rhi\n",
    "        else:\n",
    "            return max(lval, rval), False, llo, rhi\n",
    "\n",
    "        \n",
    "    val, bst, lo, hi = _helper(root)\n",
    "    return val"
   ]
  }
 ],
 "metadata": {
  "kernelspec": {
   "display_name": "Python 3 (ipykernel)",
   "language": "python",
   "name": "python3"
  },
  "language_info": {
   "codemirror_mode": {
    "name": "ipython",
    "version": 3
   },
   "file_extension": ".py",
   "mimetype": "text/x-python",
   "name": "python",
   "nbconvert_exporter": "python",
   "pygments_lexer": "ipython3",
   "version": "3.10.9"
  }
 },
 "nbformat": 4,
 "nbformat_minor": 5
}
