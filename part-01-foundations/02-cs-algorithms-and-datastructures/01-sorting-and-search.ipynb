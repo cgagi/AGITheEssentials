{
 "cells": [
  {
   "cell_type": "markdown",
   "id": "4281d5d4",
   "metadata": {},
   "source": [
    "# Setup"
   ]
  },
  {
   "cell_type": "code",
   "execution_count": 13,
   "id": "deaf0e56",
   "metadata": {},
   "outputs": [],
   "source": [
    "import time\n",
    "import math\n",
    "import matplotlib.pyplot as plt\n",
    "import numpy as np\n",
    "import random as rnd\n",
    "np.random.seed(123)\n",
    "rnd.seed(123)\n",
    "plt.rcParams[\"figure.figsize\"] = (20,5)"
   ]
  },
  {
   "cell_type": "markdown",
   "id": "04483ab0",
   "metadata": {},
   "source": [
    "# Sorting and Search: Theory\n",
    "- These types of the problems are concerned with sorting and search on data structured in form of arrays. Typically 1d, 2d, 3d.\n",
    "- Most of sorting and search problems of that type can be applying some modifications of base sorting & search algorithms, as well as working effectively with multiple pointers on arrays"
   ]
  },
  {
   "cell_type": "markdown",
   "id": "a4ad6095",
   "metadata": {},
   "source": [
    "## Base Algorithms\n",
    "- Merge Sort\n",
    "- Quick Sort\n",
    "- Quick Select\n",
    "- Binary Search\n",
    "- Insertion Sort (used in TimSort)\n",
    "\n",
    "## Methods working with Pointers\n",
    "- Lomuto partitioning\n",
    "\n",
    "## Properties\n",
    "- Time & Space Complexity\n",
    "- Stability"
   ]
  },
  {
   "cell_type": "markdown",
   "id": "f382bee7",
   "metadata": {},
   "source": [
    "# Sample Problems & Solutions"
   ]
  },
  {
   "cell_type": "markdown",
   "id": "121c1144",
   "metadata": {
    "tags": [],
    "toc-hr-collapsed": true
   },
   "source": [
    "## K Nearest Neigbours\n",
    "### Problem Description\n",
    "- Given a point A, and other n points in two-dimensional space, find K points out of n points which are nearest to A.\n",
    "- Distance between two points is measured by the standard Euclidean method.\n",
    "- "
   ]
  },
  {
   "cell_type": "markdown",
   "id": "3be322b7",
   "metadata": {
    "tags": [],
    "toc-hr-collapsed": true
   },
   "source": [
    "### Input data"
   ]
  },
  {
   "cell_type": "code",
   "execution_count": 3,
   "id": "f3236298",
   "metadata": {},
   "outputs": [
    {
     "name": "stdout",
     "output_type": "stream",
     "text": [
      "CPU times: user 6.17 s, sys: 311 ms, total: 6.48 s\n",
      "Wall time: 6.51 s\n"
     ]
    }
   ],
   "source": [
    "%%time\n",
    "N = 10**7\n",
    "points = [tuple(v) for v in np.random.rand(N,2)*2-1]\n",
    "target = (0,0)"
   ]
  },
  {
   "cell_type": "markdown",
   "id": "de7ed5a4",
   "metadata": {},
   "source": [
    "### Solution 1: Brutefore\n",
    "#### Description\n",
    "Sorting & selecting first K elements\n",
    "\n",
    "#### Complexity Analysis\n",
    "- TC O(N * log N)\n",
    "- Extra SC\n",
    "    O(n) auxillary array for euclidian distances and indices of the original array "
   ]
  },
  {
   "cell_type": "markdown",
   "id": "285f3f45",
   "metadata": {},
   "source": [
    "#### Code"
   ]
  },
  {
   "cell_type": "code",
   "execution_count": 4,
   "id": "546281d9",
   "metadata": {},
   "outputs": [],
   "source": [
    "def nearestneighbors_bf(points, target, k):\n",
    "    tx, ty = target\n",
    "    nums = [(math.sqrt((x-tx)**2+(y-ty)**2), idx) for idx, (x, y) in enumerate(points)]\n",
    "    result = sorted(nums, key=lambda x:x[0])\n",
    "    return [points[idx] for _, idx in result[:k]]"
   ]
  },
  {
   "cell_type": "markdown",
   "id": "0102d450",
   "metadata": {},
   "source": [
    "### Solution 2: Quick Select version\n",
    "#### Description\n",
    "TODO - video\n",
    "\n",
    "#### Complexity Analysis\n",
    "- TC Om(n) = expected, O(n^2) worst case\n",
    "- Extra SC \n",
    "       - O(n) auxillary array for euclidian distances and indices of the original array\n",
    "\n",
    "#### Code"
   ]
  },
  {
   "cell_type": "code",
   "execution_count": 5,
   "id": "af908bcf",
   "metadata": {},
   "outputs": [],
   "source": [
    "def nearestneighbors_qs(points, target, k):\n",
    "    def quick_select(nums, k, l, r):\n",
    "        if l>=r:\n",
    "            return nums[:k]\n",
    "        p = rnd.randint(l, r)\n",
    "        nums[p], nums[l] = nums[l], nums[p]\n",
    "        lo = l\n",
    "        for hi in range(l+1, r+1):\n",
    "            if nums[hi][0] < nums[l][0]:\n",
    "                lo+=1\n",
    "                nums[hi], nums[lo] = nums[lo], nums[hi]\n",
    "        nums[l], nums[lo] = nums[lo], nums[l]\n",
    "        if k == lo:\n",
    "            return nums[:k]\n",
    "        elif k < lo:\n",
    "            return quick_select(nums, k, l, lo-1)\n",
    "        else: # k > lo\n",
    "            return quick_select(nums, k, lo+1, r)\n",
    "    tx, ty = target\n",
    "    nums = [(math.sqrt((x-tx)**2+(y-ty)**2), idx) for idx, (x, y) in enumerate(points)]\n",
    "    result = quick_select(nums, k, 0, len(nums)-1)\n",
    "    return [points[idx] for _, idx in result]\n"
   ]
  },
  {
   "cell_type": "markdown",
   "id": "25fe676d",
   "metadata": {},
   "source": [
    "### Solution 3: Heap version\n",
    "#### Description\n",
    "TODO - video\n",
    "\n",
    "#### Complexity Analysis:\n",
    "- TC O(n * log k) worst case\n",
    "- Extra SC \n",
    "       - O(k) space for heap\n",
    "#### Code"
   ]
  },
  {
   "cell_type": "code",
   "execution_count": 6,
   "id": "3c0846c4",
   "metadata": {},
   "outputs": [],
   "source": [
    "import heapq\n",
    "\n",
    "def nearestneighbors_heap(points, target, k):\n",
    "    h = []\n",
    "    tx, ty = target\n",
    "    for idx in range(len(points)):\n",
    "        x, y = points[idx]\n",
    "        d = math.sqrt((x-tx)**2+(y-ty)**2)\n",
    "        if len(h) < k:\n",
    "            heapq.heappush(h, (-d, idx))\n",
    "        else:\n",
    "            if -h[0][0] > d:\n",
    "                heapq.heappop(h)\n",
    "                heapq.heappush(h, (-d, idx))\n",
    "    return [points[idx] for _, idx in h]\n"
   ]
  },
  {
   "cell_type": "markdown",
   "id": "e4ab67f9",
   "metadata": {},
   "source": [
    "### Visualization and Comparison"
   ]
  },
  {
   "cell_type": "code",
   "execution_count": 7,
   "id": "b71ced11",
   "metadata": {},
   "outputs": [],
   "source": [
    "algorithms = [('Bruteforce', nearestneighbors_bf), ('QuickSelect', nearestneighbors_qs), ('Heap', nearestneighbors_heap)]"
   ]
  },
  {
   "cell_type": "code",
   "execution_count": 49,
   "id": "23b6be24",
   "metadata": {
    "tags": []
   },
   "outputs": [
    {
     "name": "stdout",
     "output_type": "stream",
     "text": [
      "CPU times: user 57.8 ms, sys: 3.96 ms, total: 61.7 ms\n",
      "Wall time: 58.9 ms\n"
     ]
    },
    {
     "data": {
      "image/png": "[encoded data removed]",
      "text/plain": [
       "<Figure size 1440x360 with 3 Axes>"
      ]
     },
     "metadata": {
      "needs_background": "light"
     },
     "output_type": "display_data"
    }
   ],
   "source": [
    "%%time\n",
    "fig, axs = plt.subplots(1, 3)\n",
    "fig.suptitle('Nearest Neighbours Visualization')\n",
    "input_data = points[:200]\n",
    "x,y = [x for x,_ in input_data], [y for _,y in input_data]\n",
    "target = (0,0)\n",
    "tx, ty = target\n",
    "k = 50\n",
    "for idx, (name, f) in enumerate(algorithms):\n",
    "    result = f(input_data, target, k=50)\n",
    "    xr,yr = [x for x,_ in result], [y for _,y in result]\n",
    "    axs[idx].scatter(x,y, color='g', label='All Points')\n",
    "    axs[idx].scatter(xr,yr, color='r', label='K Nearest')\n",
    "    axs[idx].scatter(tx, ty, 10, c='b', marker='X', linewidth=0, label='Target')\n",
    "    axs[idx].legend()\n",
    "    axs[idx].set_title(name)\n",
    "    "
   ]
  },
  {
   "cell_type": "code",
   "execution_count": 9,
   "id": "1aef12b1",
   "metadata": {
    "tags": []
   },
   "outputs": [
    {
     "name": "stdout",
     "output_type": "stream",
     "text": [
      "Nearest Neighbours / Bruteforce: execution time to find closest 100 points in array of 10000000 2d points = 16.81sec\n",
      "Nearest Neighbours / Bruteforce: execution time to find closest 10000 points in array of 10000000 2d points = 17.62sec\n",
      "Nearest Neighbours / Bruteforce: execution time to find closest 1000000 points in array of 10000000 2d points = 18.16sec\n",
      "Nearest Neighbours / QuickSelect: execution time to find closest 100 points in array of 10000000 2d points = 13.76sec\n",
      "Nearest Neighbours / QuickSelect: execution time to find closest 10000 points in array of 10000000 2d points = 13.80sec\n",
      "Nearest Neighbours / QuickSelect: execution time to find closest 1000000 points in array of 10000000 2d points = 18.09sec\n",
      "Nearest Neighbours / Heap: execution time to find closest 100 points in array of 10000000 2d points = 11.29sec\n",
      "Nearest Neighbours / Heap: execution time to find closest 10000 points in array of 10000000 2d points = 11.50sec\n",
      "Nearest Neighbours / Heap: execution time to find closest 1000000 points in array of 10000000 2d points = 20.76sec\n"
     ]
    }
   ],
   "source": [
    "for name, f in algorithms:\n",
    "    N = len(points)\n",
    "    for k in [100, 10**4, 10**6]:\n",
    "        tik = time.time()\n",
    "        f(points, target, k=k)\n",
    "        tak = time.time()\n",
    "        print(f'Nearest Neighbours / {name}: execution time to find closest {k} points in array of {N} 2d points = {tak-tik:3.2f}sec')"
   ]
  },
  {
   "cell_type": "markdown",
   "id": "6e9f2a0a",
   "metadata": {
    "tags": [],
    "toc-hr-collapsed": true
   },
   "source": [
    "## Four Billion\n",
    "### Description\n",
    "Given 4 billion 32-bit integeres, return any one that's not among them. \n",
    "#### Constraints\n",
    "- input array length: [1 .. 4 * 10^9]\n",
    "- element of an input array [0 .. 2^32)\n",
    "- part 1 - 1 GiB of memory\n",
    "- part 2 - 10 MiB of memory\n",
    "\n",
    "Note: GiB (Gibibytes) is a standard unit used in the field of data processing and transmission and is defined as base 1024 rather than base 1000.\n",
    "```\n",
    "For example, 1 GB is defined as 1000³ bytes, whereas 1 GiB is defined as 1024³ bytes.\n",
    "Unit of measure \tBytes\n",
    "Kilobyte (KB) \t1000¹ = 1,000\n",
    "Megabyte (MB) \t1000² = 1,000,000\n",
    "Gigabyte (GB) \t1000³ = 1,000,000,000\n",
    "Terabyte (TB) \t1000⁴ = 1,000,000,000,000\n",
    "Petabyte (PB) \t1000⁵ = 1,000,000,000,000,000\n",
    "  \t \n",
    "Kibibyte (KiB) \t1024¹ = 1,024\n",
    "Mebibyte (MiB) \t1024² = 1,048,576\n",
    "Gibibyte (GiB) \t1024³ = 1,073,741,824\n",
    "Tebibyte (TiB) \t1024⁴ = 1,099,511,627,776\n",
    "Pebibyte (PiB) \t1024⁵ = 1,125,899,906,842,624\n",
    "```\n",
    "\n",
    "### Examples\n",
    "#### Example 1\n",
    "Input: [0,1,3]\n",
    "Output: 2 (any number in [2, 4 .. 2^32) will work)\n",
    "#### Example 2\n",
    "Input: [9999, 555, 0]\n",
    "Output: 1 (any missing number in [0..1024^3) will work)"
   ]
  },
  {
   "cell_type": "markdown",
   "id": "de170252",
   "metadata": {},
   "source": [
    "### Input Data"
   ]
  },
  {
   "cell_type": "code",
   "execution_count": 45,
   "id": "d70ea837",
   "metadata": {},
   "outputs": [
    {
     "name": "stdout",
     "output_type": "stream",
     "text": [
      "Missing idx = 4385\n"
     ]
    }
   ],
   "source": [
    "N = 10000 # Assume it is 4 billion\n",
    "missing_idx = rnd.randint(0,N-1)\n",
    "data = list(range(0, missing_idx))+list(range(missing_idx+1,N))\n",
    "print(f'Missing idx = {missing_idx}')"
   ]
  },
  {
   "cell_type": "markdown",
   "id": "d74830c9",
   "metadata": {},
   "source": [
    "### Solution: part 1\n",
    "Description\n",
    "- Unsigned 32 bit integer can take any value in range 0 to 4,294,967,295. Total 4,294,967,296 potential values\n",
    "    - ``` The XDR standard defines signed integers as integer. A signed integer is a 32-bit datum that encodes an integer in the range [-2147483648 to 2147483647]. An unsigned integer is a 32-bit datum that encodes a nonnegative integer in the range [0 to 4294967295].```    \n",
    "- 1GiB = 1024^3 bytes, or 8,589,934,592 bits (each byte is 8 bits)\n",
    "- Our memory has more bits than our input array. We can use our 1GiB as an index, where first 2^32 bits will represent a number\n",
    "- We will initialize index with 0, and will have two passes over our index: \n",
    "    - in the first pass we will turn on bits to 1 for encountered numbers\n",
    "    - in the second pass we will iterate through the index and will return first position with bit equal to 0\n",
    "\n",
    "\n",
    "#### Complexity Analysis    \n",
    "- TC O(N), where N is the size of an input array\n",
    "- SC <= 1GiB\n",
    "\n",
    "#### Code"
   ]
  },
  {
   "cell_type": "code",
   "execution_count": 48,
   "id": "3a9ee89a",
   "metadata": {},
   "outputs": [],
   "source": [
    "def find_integer_1gib(arr):\n",
    "    mem_index = bytearray(math.ceil(N/8.))\n",
    "    \n",
    "    for num in arr:\n",
    "        base_idx = num // 8 \n",
    "        shift_idx = 1 << (num % 8)\n",
    "        mem_index[base_idx] |= shift_idx\n",
    "        \n",
    "    for base_idx in range(len(mem_index)):\n",
    "        for shift_idx in range(8):\n",
    "            if mem_index[base_idx] & 1 << shift_idx == 0:\n",
    "                return base_idx * 8 + shift_idx\n",
    "    return 0"
   ]
  },
  {
   "cell_type": "code",
   "execution_count": 55,
   "id": "b1976d0b",
   "metadata": {},
   "outputs": [
    {
     "name": "stdout",
     "output_type": "stream",
     "text": [
      "Missing number = 4385\n"
     ]
    }
   ],
   "source": [
    "result_idx = find_integer_1gib(data)\n",
    "print(f'Missing number = {result_idx}')\n",
    "assert result_idx == missing_idx"
   ]
  },
  {
   "cell_type": "markdown",
   "id": "7ea4ad5c",
   "metadata": {},
   "source": [
    "### Solution: part 2\n",
    "#### Description\n",
    "- Unsigned 32 bit integer can take any value in range 0 to 4,294,967,295. Total 4,294,967,296 potential values\n",
    "- 10 MiB = 10 * 1024^2 bytes, or 83,886,080 bits\n",
    "- Our memory is not sufficient to store indices of all elements. \n",
    "- We can think of 32 bit integer as 2^16 * 2^16. \n",
    "    - In the first pass (of length N) we will allocate 2^16 buckets and will count integers with higher 16 bits in each bucket.\n",
    "    - The second pass will be over 2^16 buckets to find bucket with the missing value\n",
    "    - The third pass (second of length N) will be over all elements \n",
    "    \n",
    "#### Complexity Analysis\n",
    "- TC O(N)\n",
    "- SC <= 10MiB (Technically it is ~ 2^16 * 16 Bit )\n",
    "\n",
    "#### Code"
   ]
  },
  {
   "cell_type": "code",
   "execution_count": 52,
   "id": "89ef028f",
   "metadata": {},
   "outputs": [],
   "source": [
    "def find_integer_10mib(arr):\n",
    "    buckets_number = 2 ** 16\n",
    "    expected_elements_in_bucket = 2 ** 16\n",
    "    freq = [0] * buckets_number\n",
    "\n",
    "    for num in arr:\n",
    "        higher_idx = num >> 16\n",
    "        freq[higher_idx] += 1\n",
    "\n",
    "    for bicket_idx in range(buckets_number):\n",
    "        if freq[bicket_idx] < expected_elements_in_bucket:\n",
    "            bucket = bytearray(expected_elements_in_bucket)\n",
    "            for num in arr:\n",
    "                current_num_bucket_idx = num >> 16\n",
    "                if current_num_bucket_idx == bicket_idx:\n",
    "                    bucket_element_idx = num % buckets_number\n",
    "                    bucket[bucket_element_idx] = 1\n",
    "\n",
    "            for bucket_element_idx in range(expected_elements_in_bucket):\n",
    "                if bucket[bucket_element_idx] == 0:\n",
    "                    return (bicket_idx << 16) + bucket_element_idx\n",
    "    return 0"
   ]
  },
  {
   "cell_type": "code",
   "execution_count": 54,
   "id": "9086b07c",
   "metadata": {},
   "outputs": [
    {
     "name": "stdout",
     "output_type": "stream",
     "text": [
      "Missing number = 4385\n"
     ]
    }
   ],
   "source": [
    "result_idx = find_integer_10mib(data)\n",
    "print(f'Missing number = {result_idx}')\n",
    "assert result_idx == missing_idx"
   ]
  },
  {
   "cell_type": "markdown",
   "id": "8bc0a47c",
   "metadata": {},
   "source": [
    "# References\n",
    "- Hoare partitioning TBD\n",
    "- Lomuto partitioning TBD- \n",
    "- Integers - https://www.ibm.com/docs/en/aix/7.1?topic=types-signed-unsigned-integers"
   ]
  },
  {
   "cell_type": "code",
   "execution_count": null,
   "id": "2a3c7680",
   "metadata": {},
   "outputs": [],
   "source": []
  }
 ],
 "metadata": {
  "kernelspec": {
   "display_name": "Python 3 (ipykernel)",
   "language": "python",
   "name": "python3"
  },
  "language_info": {
   "codemirror_mode": {
    "name": "ipython",
    "version": 3
   },
   "file_extension": ".py",
   "mimetype": "text/x-python",
   "name": "python",
   "nbconvert_exporter": "python",
   "pygments_lexer": "ipython3",
   "version": "3.10.9"
  }
 },
 "nbformat": 4,
 "nbformat_minor": 5
}
