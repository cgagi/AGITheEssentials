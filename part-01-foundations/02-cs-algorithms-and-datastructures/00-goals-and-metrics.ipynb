{
 "cells": [
  {
   "cell_type": "markdown",
   "id": "d047d78e",
   "metadata": {},
   "source": [
    "# Definitions\n",
    "An Algorithm is a finite sequence of well defined computer-implementable instructions to solve a given class of problems.\n",
    "\n",
    "In practice problem might be given informally. In that case, prior to the designing an algorithm, the part of solution will be problem formalization in some abstract form. For example for road navigation problem can be formally represented as a graph, with intersections represented as Nodes and roads as Edges between them.\n",
    "\n",
    "For formally algorithm is a function or a procedure that takes and input parameters and produces and output:\n",
    "F(x1, ..., xn) => Y\n",
    "- The function returns the resulted value \n",
    "- Procedure changes the state of one of the inputs (or some external global state)\n",
    "\n",
    "# The Goal\n",
    "The goal is to come up with an optimal algorithm that:\n",
    "1. Correct = Solves a given problem = produces accurate result\n",
    "2. Efficient = Solves the problem in the most efficient way = uses as little as possible resources\n",
    "\n",
    "## Correctness\n",
    "Correctness can be proved similarly to the mathematical induction. In practice it is done informally via tracing examples and monitoring variables in execution stacks, as well as automated tests.\n",
    "\n",
    "\n",
    "## Efficiency\n",
    "Efficiency is measured in terms of consumed resources such as:\n",
    "1. Compute Time (CPU / GPU)\n",
    "2. Space Required (RAM, SDD)\n",
    "\n",
    "During algorithm design phase, it is impractical to estimate running time of an algorithm based on actual physical performance of a particular hardware for a number of reasons:\n",
    "- Compute time and space of actual hardware can vary, and in fact it is constantly improving over time\n",
    "- Algorithms can be implemented in different programming languages which have different running time for same operations\n",
    "- Program can be executed in different context (e.g. with different priorities)\n",
    "\n",
    "Instead compute time is measured in nominal units as a function to the size of the input. Both time complexity and space complexity can be denoted as a function:\n",
    "- TC(N) - Time Complexity\n",
    "- ESC(N) - Extra Space Complexity\n",
    "Here N is length (size) of the input. It is critical to understand how TC and ESC changes relative to N. For example - if relation is linear or sublinear, and our input size increases 2 times we can continue solving the problem simply by scaling our hardware 2 times. \n",
    "\n",
    "### Asymptotic Analysis\n",
    "Since algorithms must be genertic and  typically there is no control over input data we are interested in understanding worst case performance of an algorithm. That means what is guaranteed limit of a running time and space required to provide a solution for an arbitrary input. This type of analysis is called asymptotic. \n",
    "Some algorithms such as quicksort have reliable avg case performance and only theoretical worst case, we are interested to estimate that complexity as well. We are not interested in best case performance since for most of the problem it is possible to find an input that solves problem in constant time.\n",
    "\n",
    "```In mathematical analysis, asymptotic analysis, also known as asymptotics, is a method of describing limiting behavior. Informally, the term asymptotic means approaching a value or curve arbitrarily closely (i.e., as some sort of limit is taken). TBD <link>```\n",
    "\n",
    "Following notation is used:\n",
    "- O(f(n)) - worst case performance\n",
    "- Omega(f(n)) - avg. case performance\n",
    "- o(f(n)) - \n",
    "\n",
    "### Complexities\n",
    "- Constant time\n",
    "- Log N time\n",
    "- Linear time\n",
    "- N*LogN\n",
    "- N^2\n",
    "- N^k\n",
    "- 2^N\n",
    "- N!\n",
    "- N^N\n",
    "\n",
    "\n",
    "TBD - chart\n",
    "\n",
    "### N * LogN vs N^2\n",
    "There is a clear distinct line between N * logN and N^2. Modern datasets in most cases exceed billions of datapoints and N^2 algorithms are simply intractable as is for real world production datasets.\n",
    "\n",
    "In many cases with proper system design optimization it is possible to mitigate the problem for polinomial algorithms by:\n",
    "- reducing data: breaking data into buckets of limited size, apply operations on windowed stream etc.\n",
    "- caching data: in memory / CPU cache\n",
    "\n",
    "### Time / Space trade off\n",
    "In many cases there are several options of \"optimal\" algorithm that use either more time or space to complete.\n",
    "In practice Time-optimal is more preferable, because it is cheaper and easier to extend.\n",
    "\n",
    "### Note: System Design\n",
    "The Asymptotic Notation In actual live system design algorithms with similar \n",
    "\n"
   ]
  },
  {
   "cell_type": "code",
   "execution_count": null,
   "id": "6513ff99",
   "metadata": {},
   "outputs": [],
   "source": []
  },
  {
   "cell_type": "code",
   "execution_count": null,
   "id": "c30bfaa6",
   "metadata": {},
   "outputs": [],
   "source": []
  },
  {
   "cell_type": "markdown",
   "id": "9d417500",
   "metadata": {},
   "source": [
    "# References\n",
    "- "
   ]
  },
  {
   "cell_type": "code",
   "execution_count": null,
   "id": "2b68a548",
   "metadata": {},
   "outputs": [],
   "source": []
  }
 ],
 "metadata": {
  "kernelspec": {
   "display_name": "Python 3 (ipykernel)",
   "language": "python",
   "name": "python3"
  },
  "language_info": {
   "codemirror_mode": {
    "name": "ipython",
    "version": 3
   },
   "file_extension": ".py",
   "mimetype": "text/x-python",
   "name": "python",
   "nbconvert_exporter": "python",
   "pygments_lexer": "ipython3",
   "version": "3.10.9"
  }
 },
 "nbformat": 4,
 "nbformat_minor": 5
}
